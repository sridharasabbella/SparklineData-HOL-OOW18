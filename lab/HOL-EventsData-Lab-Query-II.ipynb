{
 "cells": [
  {
   "cell_type": "markdown",
   "metadata": {},
   "source": [
    "# Lab notebook to query data using SNAP indexes\n"
   ]
  },
  {
   "cell_type": "markdown",
   "metadata": {},
   "source": [
    "## HOL-EventsData-Lab-Query-II - to perform queries on the data qubes created in setup notebook\n",
    "\n",
    "The pupose of this lab is to demonstrate the core capabilities of SparklineData such as\n",
    "\n",
    "1. Slicing and dicing the data based on various dimnentions and metrics\n",
    "2. Joining data outside SNAP qube\n",
    "3. BI and Semantic capabilties like windowing\n",
    "\n",
    "In this exercise we will be creating four views on the Qube Salessnap with filters for each segment of users. \n",
    "\n",
    "1. Query-1 on quantity of tickets sold and revenue/cost by date: \n",
    "    * Compare sales of all users to users who liked Jazz and Concerts\n",
    "    * Draw \n",
    "        - Histogram of number of tickets sold\n",
    "        - Time series of tickets sold - daily\n",
    "        - Plot Quantity of tickets sold per month \n",
    "2. Query-2 Find quantity sold compared to quantity sold over a 40 day window \n",
    "    * Scatter plot of quantity of tickets sold vs quantity of tickets sold 40 days ago\n",
    "    * Auto correlation plot"
   ]
  },
  {
   "cell_type": "markdown",
   "metadata": {},
   "source": [
    "### Setup the notebook"
   ]
  },
  {
   "cell_type": "code",
   "execution_count": null,
   "metadata": {
    "inputHidden": false,
    "outputHidden": false
   },
   "outputs": [],
   "source": [
    "from pyhive import hive\n",
    "from pprint import pprint\n",
    "import pandas as pd\n",
    "import os\n",
    "import numpy as np\n",
    "from altair import *\n",
    "\n",
    "from altair import Row, Column, Chart, Text\n",
    "import altair as alt\n",
    "\n",
    "# to use with Jupyter notebook (not JupyterLab) run the following\n",
    "alt.renderers.enable('notebook')\n",
    "\n",
    "# Connection to Thrift server\n",
    "thrift_conn = hive.Connection(host=\"129.146.118.175\",port=10000)\n",
    "def sql(query, explain=False) :\n",
    "    # silly hack to handle filesystem prefix for us when creating local tables\n",
    "    if \"{prefix}\" in query:\n",
    "        query = query.replace('{prefix}',cwd)\n",
    "    df=pd.read_sql(query,thrift_conn)\n",
    "    return df\n",
    "\n",
    "def explain(query):\n",
    "    df = sql(\"explain \" + query)\n",
    "    plan = df['plan'][0]\n",
    "    pprint(plan)\n",
    "\n",
    "# Set the directory of the data to ingest into SNAP\n",
    "cwd=\"oci://sparkline-hol-data@paasdevbdc\""
   ]
  },
  {
   "cell_type": "code",
   "execution_count": null,
   "metadata": {},
   "outputs": [],
   "source": [
    "thrift_conn = hive.Connection(host=\"129.146.118.175\",port=10000)\n",
    "sql(\"use EventsDB\")\n",
    "sql(\"show tables\")"
   ]
  },
  {
   "cell_type": "markdown",
   "metadata": {},
   "source": [
    "## Query-1 on quantity of tickets sold and price paid by date: \n",
    "Compare sales of all users to users who liked Jazz and Concerts"
   ]
  },
  {
   "cell_type": "code",
   "execution_count": null,
   "metadata": {
    "inputHidden": false,
    "outputHidden": false
   },
   "outputs": [],
   "source": [
    "query_str=\"\"\"\n",
    "with allusers AS ( \n",
    "select caldate adate, users_buyer_city, sum(qtysold) all_qnty, sum(pricepaid) all_price \n",
    "from salessnap group by caldate,users_buyer_city)\n",
    ",\n",
    "someusers AS (\n",
    "select caldate sdate,users_buyer_city, sum(qtysold) quantity, sum(pricepaid) price \n",
    "from salessnap where users_buyer_likeconcerts='TRUE' AND users_buyer_likejazz='TRUE' group by caldate,users_buyer_city)\n",
    "\n",
    "select adate, allusers.users_buyer_city, quantity, price, round(quantity/all_qnty,2)*100 quantity_ratio, \n",
    "        round(price/all_price,2)*100 price_ratio\n",
    "from allusers, someusers where adate=sdate order by price_ratio desc limit 5000\n",
    "\"\"\""
   ]
  },
  {
   "cell_type": "code",
   "execution_count": null,
   "metadata": {
    "inputHidden": false,
    "outputHidden": false
   },
   "outputs": [],
   "source": [
    "df=sql(query_str)\n",
    "df"
   ]
  },
  {
   "cell_type": "markdown",
   "metadata": {},
   "source": [
    "### 1- Draw histogram of number of tickets sold"
   ]
  },
  {
   "cell_type": "code",
   "execution_count": null,
   "metadata": {
    "inputHidden": false,
    "outputHidden": false
   },
   "outputs": [],
   "source": [
    "##Histogram on QUantity bins \n",
    "bar = alt.Chart(df).mark_bar().encode(\n",
    "    alt.X('quantity:Q', bin=True, axis=None),\n",
    "    alt.Y('count()')\n",
    ")\n",
    "\n",
    "rule = alt.Chart(df).mark_rule(color='red').encode(\n",
    "    x='mean(quantity):Q',\n",
    "    size=alt.value(5)\n",
    ")\n",
    "\n",
    "bar + rule"
   ]
  },
  {
   "cell_type": "markdown",
   "metadata": {},
   "source": [
    "### 2- Draw time series analysis for number of tieckts sold daily"
   ]
  },
  {
   "cell_type": "code",
   "execution_count": null,
   "metadata": {
    "inputHidden": false,
    "outputHidden": false
   },
   "outputs": [],
   "source": [
    "\n",
    "## Plot price paid for the same segments\n",
    "alt.Chart(df).mark_line(point=True).encode(\n",
    "    x='adate',\n",
    "    y='sum(quantity)'\n",
    ")"
   ]
  },
  {
   "cell_type": "markdown",
   "metadata": {},
   "source": [
    "### 3- Plot of quanity of tickets sold by month "
   ]
  },
  {
   "cell_type": "code",
   "execution_count": null,
   "metadata": {
    "inputHidden": false,
    "outputHidden": false
   },
   "outputs": [],
   "source": [
    "df['yearmon']=pd.to_datetime(df['adate'],format=\"%Y-%m-%d\" ).dt.strftime(\"%Y%m\")"
   ]
  },
  {
   "cell_type": "code",
   "execution_count": null,
   "metadata": {
    "inputHidden": false,
    "outputHidden": false
   },
   "outputs": [],
   "source": [
    "quantity_permonth=Chart(df).mark_line().encode( x='yearmon', y='sum(quantity)')\n",
    "quantity_permonth"
   ]
  },
  {
   "cell_type": "markdown",
   "metadata": {},
   "source": [
    "## Query-2:  Find quantity sold compared to quantity sold over a 40 day window"
   ]
  },
  {
   "cell_type": "code",
   "execution_count": null,
   "metadata": {
    "inputHidden": false,
    "outputHidden": false
   },
   "outputs": [],
   "source": [
    "df['quantity'].autocorr(lag=30)"
   ]
  },
  {
   "cell_type": "code",
   "execution_count": null,
   "metadata": {
    "inputHidden": false,
    "outputHidden": false
   },
   "outputs": [],
   "source": [
    "quantity_ratio_40days_window=\"\"\"\n",
    "with firstseries AS\n",
    "(\n",
    "select caldate adate, sum(qtysold) quantity\n",
    "from salessnap group by caldate\n",
    ")\n",
    "\n",
    "select * from \n",
    "( select adate , quantity, lead(quantity, 40)\n",
    "     \n",
    "   over ( order by adate desc) as qlag\n",
    "   from firstseries  ) quantity\n",
    "\"\"\""
   ]
  },
  {
   "cell_type": "code",
   "execution_count": null,
   "metadata": {
    "inputHidden": false,
    "outputHidden": false
   },
   "outputs": [],
   "source": [
    "df=sql(quantity_ratio_40days_window)\n",
    "df"
   ]
  },
  {
   "cell_type": "markdown",
   "metadata": {},
   "source": [
    "### 1- Scatter plot of quantity of tickets sold vs quantity of tickets sold 40 days ago"
   ]
  },
  {
   "cell_type": "code",
   "execution_count": null,
   "metadata": {
    "inputHidden": false,
    "outputHidden": false
   },
   "outputs": [],
   "source": [
    "df['quantity'] = np.log(df['quantity'])\n",
    "df['qlag'] = np.log(df['qlag'])\n",
    "a=Chart(df).mark_circle().encode( x='quantity', y='qlag')\n",
    "a"
   ]
  },
  {
   "cell_type": "markdown",
   "metadata": {},
   "source": [
    "### 2- Draw auto correlation plot"
   ]
  },
  {
   "cell_type": "code",
   "execution_count": null,
   "metadata": {
    "inputHidden": false,
    "outputHidden": false
   },
   "outputs": [],
   "source": [
    "auto_correlation=Chart(df).mark_circle().encode( x='q', y='q')\n",
    "a"
   ]
  },
  {
   "cell_type": "code",
   "execution_count": null,
   "metadata": {
    "inputHidden": false,
    "outputHidden": false
   },
   "outputs": [],
   "source": [
    "df['quantity'].corr(df['qlag'])"
   ]
  },
  {
   "cell_type": "code",
   "execution_count": null,
   "metadata": {
    "inputHidden": false,
    "outputHidden": false
   },
   "outputs": [],
   "source": [
    "df"
   ]
  },
  {
   "cell_type": "markdown",
   "metadata": {
    "inputHidden": false,
    "outputHidden": false
   },
   "source": [
    "### Done"
   ]
  },
  {
   "cell_type": "code",
   "execution_count": null,
   "metadata": {},
   "outputs": [],
   "source": []
  }
 ],
 "metadata": {
  "kernel_info": {
   "name": "python2"
  },
  "kernelspec": {
   "display_name": "Python 3",
   "language": "python",
   "name": "python3"
  },
  "language_info": {
   "codemirror_mode": {
    "name": "ipython",
    "version": 3
   },
   "file_extension": ".py",
   "mimetype": "text/x-python",
   "name": "python",
   "nbconvert_exporter": "python",
   "pygments_lexer": "ipython3",
   "version": "3.6.5"
  },
  "nteract": {
   "version": "0.4.3"
  }
 },
 "nbformat": 4,
 "nbformat_minor": 4
}
