{
 "cells": [
  {
   "cell_type": "markdown",
   "metadata": {},
   "source": [
    "# Lab notebook to setup tables with Events dataset "
   ]
  },
  {
   "cell_type": "markdown",
   "metadata": {},
   "source": [
    "## HOL-EventsData-Lab-Setup: to perform queries on the data qubes created in setup notebook\n",
    "\n",
    "In this exercise we will be creating four views on the Qube Salessnap with filters for each segment of users. \n",
    "\n",
    "### Reset data and recreate the indexes \n",
    "1. Drop the database/schema EventsDB and all the tables in the schema to reset the lab\n",
    "2. RE-create the EventsDB schema/database and create all the external tables\n",
    "    * users, event\n",
    "3. Define the star schema between sales, users, category, venue and event in SNAP\n",
    "    * Drop SNAP for 'sales' if it is already there\n",
    "    * Define the SNAP index for sales\n",
    "    * Load data into sales SNAP index\n",
    "4. Define the star schema between listing, event and users_seller in SNAP\n",
    "    * Drop SNAP index on 'listing' if it is already there\n",
    "    * Define the SNAP index for second fact table 'listings' - note this table is located outside\n",
    "    * Load data into listing SNAP index\n",
    "5. Simple queries\n",
    "    * Find the total tickets sold on Jan 5th 2018\n",
    "    * Find the listing in a range\n",
    "    * Find the top 10 events with maximum revenue\n",
    "    * Find the top 10 customers with maximum number of tickers\n",
    "    * query"
   ]
  },
  {
   "cell_type": "markdown",
   "metadata": {},
   "source": [
    "### First let us setup the notebook environment (Python packages) and connect to Thrift server "
   ]
  },
  {
   "cell_type": "code",
   "execution_count": null,
   "metadata": {},
   "outputs": [],
   "source": [
    "%load_ext autotime"
   ]
  },
  {
   "cell_type": "code",
   "execution_count": null,
   "metadata": {
    "inputHidden": false,
    "outputHidden": false
   },
   "outputs": [],
   "source": [
    "from pyhive import hive\n",
    "from pprint import pprint\n",
    "import pandas as pd\n",
    "import os\n",
    "\n",
    "import IPython.display\n",
    "def draw(spec):\n",
    "    IPython.display.display({\n",
    "        'application/vnd.vegalite.v1+json': spec.to_dict()\n",
    "    }, raw=True)\n",
    "\n",
    "pd.set_option('display.max_colwidth', -1) # dont truncate table columns\n",
    "\n",
    "# Python function to run sql code and get the result set\n",
    "def sql(query, explain=False) :\n",
    "    # silly hack to handle filesystem prefix for us when creating local tables\n",
    "    if \"{prefix}\" in query:\n",
    "        query = query.replace('{prefix}',cwd)\n",
    "    df=pd.read_sql(query,thrift_conn)\n",
    "    return df\n",
    "\n",
    "# Python function to explain the given query\n",
    "def explain(query):\n",
    "    df = sql(\"explain \" + query)\n",
    "    plan = df['plan'][0]\n",
    "    pprint(plan)\n",
    "\n",
    "# Set the directory of the data to ingest into SNAP\n",
    "cwd=\"oci://sparkline-hol-data@paasdevbdc\"\n",
    "\n",
    "# Connection to Thrift server\n",
    "thrift_conn = hive.Connection(host=\"129.146.118.175\",port=10000)"
   ]
  },
  {
   "cell_type": "markdown",
   "metadata": {},
   "source": [
    "### Drop the database/schema EventsDB and all the tables in the schema to reset the lab\n",
    "### RE-create the EventsDB schema/database and create all the external tables\n",
    "\n",
    "Note: These are only external tables - so drop will only delete the metadata not the actual data"
   ]
  },
  {
   "cell_type": "code",
   "execution_count": null,
   "metadata": {},
   "outputs": [],
   "source": [
    "sql(\"DROP DATABASE IF EXISTS EventsDB Cascade\")\n",
    "sql(\"CREATE DATABASE EventsDB\")\n",
    "sql(\"use EventsDB\")\n",
    "sql(\"show tables\")"
   ]
  },
  {
   "cell_type": "markdown",
   "metadata": {},
   "source": [
    "### Create external table: users"
   ]
  },
  {
   "cell_type": "code",
   "execution_count": null,
   "metadata": {},
   "outputs": [],
   "source": [
    "users = \"\"\"\n",
    "create table if not exists users (\n",
    "\tuserid integer ,\n",
    "\tusername string,\n",
    "\tfirstname string,\n",
    "\tlastname string,\n",
    "\tcity string,\n",
    "\tstate string,\n",
    "\temail string,\n",
    "\tphone string,\n",
    "\tlikesports string,\n",
    "\tliketheatre string,\n",
    "\tlikeconcerts string,\n",
    "\tlikejazz string,\n",
    "\tlikeclassical string,\n",
    "\tlikeopera string,\n",
    "\tlikerock string,\n",
    "\tlikevegas string,\n",
    "\tlikebroadway string,\n",
    "\tlikemusicals string)\n",
    "    using csv\n",
    "    options (path \"{prefix}/data/allusers_pipe.txt\", delimiter \"|\")\n",
    "\"\"\"\n",
    "sql(users)"
   ]
  },
  {
   "cell_type": "markdown",
   "metadata": {},
   "source": [
    "### Create external table: users_buyer"
   ]
  },
  {
   "cell_type": "code",
   "execution_count": null,
   "metadata": {
    "inputHidden": false,
    "outputHidden": false
   },
   "outputs": [],
   "source": [
    "users_buyer = \"\"\"\n",
    "create table if not exists users_buyer (\n",
    "\tuserid integer ,\n",
    "\tusername string,\n",
    "\tfirstname string,\n",
    "\tlastname string,\n",
    "\tcity string,\n",
    "\tstate string,\n",
    "\temail string,\n",
    "\tphone string,\n",
    "\tlikesports string,\n",
    "\tliketheatre string,\n",
    "\tlikeconcerts string,\n",
    "\tlikejazz string,\n",
    "\tlikeclassical string,\n",
    "\tlikeopera string,\n",
    "\tlikerock string,\n",
    "\tlikevegas string,\n",
    "\tlikebroadway string,\n",
    "\tlikemusicals string)\n",
    "    using csv\n",
    "    options (path \"{prefix}/data/allusers_pipe.txt\", delimiter \"|\")\n",
    "\"\"\"\n",
    "sql(users_buyer)"
   ]
  },
  {
   "cell_type": "code",
   "execution_count": null,
   "metadata": {},
   "outputs": [],
   "source": [
    "sql(\"select count(*) from users_buyer\")"
   ]
  },
  {
   "cell_type": "markdown",
   "metadata": {},
   "source": [
    "### Create external table: users_seller"
   ]
  },
  {
   "cell_type": "code",
   "execution_count": null,
   "metadata": {
    "inputHidden": false,
    "outputHidden": false
   },
   "outputs": [],
   "source": [
    "users_seller = \"\"\"\n",
    "create table if not exists users_seller (\n",
    "\tuserid integer ,\n",
    "\tusername string,\n",
    "\tfirstname string,\n",
    "\tlastname string,\n",
    "\tcity string,\n",
    "\tstate string,\n",
    "\temail string,\n",
    "\tphone string,\n",
    "\tlikesports string,\n",
    "\tliketheatre string,\n",
    "\tlikeconcerts string,\n",
    "\tlikejazz string,\n",
    "\tlikeclassical string,\n",
    "\tlikeopera string,\n",
    "\tlikerock string,\n",
    "\tlikevegas string,\n",
    "\tlikebroadway string,\n",
    "\tlikemusicals string)\n",
    "    using csv\n",
    "    options (path \"{prefix}/data/allusers_pipe.txt\", delimiter \"|\")\n",
    "\"\"\"\n",
    "sql(users_seller)"
   ]
  },
  {
   "cell_type": "code",
   "execution_count": null,
   "metadata": {},
   "outputs": [],
   "source": [
    "sql(\"select count(*) from users_seller\")"
   ]
  },
  {
   "cell_type": "markdown",
   "metadata": {},
   "source": [
    "### Create external table: venue"
   ]
  },
  {
   "cell_type": "code",
   "execution_count": null,
   "metadata": {
    "inputHidden": false,
    "outputHidden": false
   },
   "outputs": [],
   "source": [
    "venue = \"\"\"\n",
    "create table if not exists venue(\n",
    "\tvenueid integer,\n",
    "\tvenuename string,\n",
    "\tvenuecity string,\n",
    "\tvenuestate string,\n",
    "\tvenueseats integer)\n",
    "    using csv\n",
    "    options (path \"{prefix}/data/venue_pipe.txt\", delimiter \"|\")\n",
    "\"\"\"\n",
    "sql(venue)"
   ]
  },
  {
   "cell_type": "code",
   "execution_count": null,
   "metadata": {},
   "outputs": [],
   "source": [
    "sql(\"select count(*) from venue\")"
   ]
  },
  {
   "cell_type": "markdown",
   "metadata": {},
   "source": [
    "### Create external table: category"
   ]
  },
  {
   "cell_type": "code",
   "execution_count": null,
   "metadata": {
    "inputHidden": false,
    "outputHidden": false
   },
   "outputs": [],
   "source": [
    "category=\"\"\"\n",
    "create table if not exists category(\n",
    "\tcatid integer,\n",
    "\tcatgroup string,\n",
    "\tcatname string,\n",
    "\tcatdesc string)    \n",
    "    using csv\n",
    "    options (path \"{prefix}/data/category_pipe.txt\", delimiter \"|\")\n",
    "\"\"\"\n",
    "sql(category)"
   ]
  },
  {
   "cell_type": "code",
   "execution_count": null,
   "metadata": {},
   "outputs": [],
   "source": [
    "sql(\"select count(*) from category\")"
   ]
  },
  {
   "cell_type": "markdown",
   "metadata": {},
   "source": [
    "### Create external table: date"
   ]
  },
  {
   "cell_type": "code",
   "execution_count": null,
   "metadata": {
    "inputHidden": false,
    "outputHidden": false
   },
   "outputs": [],
   "source": [
    "ddate = \"\"\"\n",
    "create table if not exists ddate(\n",
    "\tdateid integer ,\n",
    "\tcaldate date,\n",
    "\tday string,\n",
    "\tweek integer,\n",
    "\tmonth string,\n",
    "\tqtr string,\n",
    "\tyear integer,\n",
    "\tholiday string)    \n",
    "    using csv\n",
    "    options (path \"{prefix}/data/date2008_pipe.txt\", delimiter \"|\")\n",
    "\"\"\"\n",
    "sql(ddate)"
   ]
  },
  {
   "cell_type": "code",
   "execution_count": null,
   "metadata": {},
   "outputs": [],
   "source": [
    "sql(\"select count(*) from ddate\")"
   ]
  },
  {
   "cell_type": "markdown",
   "metadata": {},
   "source": [
    "### Create external table: event"
   ]
  },
  {
   "cell_type": "code",
   "execution_count": null,
   "metadata": {
    "inputHidden": false,
    "outputHidden": false
   },
   "outputs": [],
   "source": [
    "event = \"\"\"\n",
    "create table if not exists event(\n",
    "\teventid integer ,\n",
    "\tvenueid integer,\n",
    "\tcatid integer,\n",
    "\tdateid integer ,\n",
    "\teventname string,\n",
    "\tstarttime timestamp)    \n",
    "    using csv\n",
    "    options (path \"{prefix}/data/allevents_pipe.txt\", delimiter \"|\")\n",
    "\"\"\"\n",
    "sql(event)"
   ]
  },
  {
   "cell_type": "code",
   "execution_count": null,
   "metadata": {},
   "outputs": [],
   "source": [
    "sql(\"select count(*) from event\")"
   ]
  },
  {
   "cell_type": "markdown",
   "metadata": {},
   "source": [
    "### Create external table: listing\n",
    "\n",
    "#### Make a note this data set is coming from third part data lake like AWS-S3"
   ]
  },
  {
   "cell_type": "code",
   "execution_count": null,
   "metadata": {
    "inputHidden": false,
    "outputHidden": false
   },
   "outputs": [],
   "source": [
    "listing = \"\"\"\n",
    "create table if not exists listing(\n",
    "\tlistid integer  ,\n",
    "\tsellerid integer ,\n",
    "\teventid integer ,\n",
    "\tdateid integer ,\n",
    "\tnumtickets integer ,\n",
    "\tpriceperticket double, \n",
    "\ttotalprice double,\n",
    "\tlisttime timestamp)    \n",
    "    using csv\n",
    "    options (path \"s3a://snap-samples/redshift/listings_pipe.txt\", delimiter \"|\")\n",
    "    \n",
    "\"\"\"\n",
    "\n",
    "sql(listing)"
   ]
  },
  {
   "cell_type": "code",
   "execution_count": null,
   "metadata": {},
   "outputs": [],
   "source": [
    "sql(\"select count(*) from listing\")"
   ]
  },
  {
   "cell_type": "markdown",
   "metadata": {},
   "source": [
    "### Create external table: sales"
   ]
  },
  {
   "cell_type": "code",
   "execution_count": null,
   "metadata": {
    "inputHidden": false,
    "outputHidden": false
   },
   "outputs": [],
   "source": [
    "sales = \"\"\"\n",
    "create table if not exists  sales(\n",
    "\tsalesid integer ,\n",
    "\tlistid integer,\n",
    "\tsellerid integer,\n",
    "\tbuyerid integer,\n",
    "\teventid integer,\n",
    "\tdateid integer,\n",
    "\tqtysold integer,\n",
    "\tpricepaid double,\n",
    "\tcommission double,\n",
    "\tsaletime timestamp)\n",
    "    using csv\n",
    "    options (\n",
    "        path \"{prefix}/data/sales_tab.txt\"\n",
    "        ,delimiter \"\\t\"\n",
    "        ,timestampFormat \"d/MM/yyyy HH:mm:ss\"\n",
    "        ,inferSchema \"true\"\n",
    "        )\n",
    "\"\"\"\n",
    "sql(sales)"
   ]
  },
  {
   "cell_type": "code",
   "execution_count": null,
   "metadata": {},
   "outputs": [],
   "source": [
    "sql(\"select count(*) from sales\")"
   ]
  },
  {
   "cell_type": "markdown",
   "metadata": {},
   "source": [
    "### Define the star schema between sales, users, category, venue and event in SNAP"
   ]
  },
  {
   "cell_type": "code",
   "execution_count": null,
   "metadata": {
    "inputHidden": false,
    "outputHidden": false
   },
   "outputs": [],
   "source": [
    "create_sales_star_schema = \"\"\"alter star schema on sales with stats as\n",
    "many_to_one join of sales with event on sales.eventid = event.eventid\n",
    "many_to_one join of sales with ddate on sales.dateid = ddate.dateid\n",
    "many_to_one join of sales with users_buyer on sales.buyerid = users_buyer.userid\n",
    "many_to_one join of sales with users_seller on sales.sellerid = users_seller.userid\n",
    "many_to_one join of event with category on event.catid = category.catid\n",
    "many_to_one join of event with venue on event.venueid = venue.venueid\n",
    "\"\"\"\n",
    "sql(create_sales_star_schema)"
   ]
  },
  {
   "cell_type": "markdown",
   "metadata": {},
   "source": [
    "### Define the star schema between listing, event and users_seller in SNAP"
   ]
  },
  {
   "cell_type": "code",
   "execution_count": null,
   "metadata": {
    "inputHidden": false,
    "outputHidden": false
   },
   "outputs": [],
   "source": [
    "create_listing_star_schema = \"\"\"alter star schema on listing with stats as\n",
    "\n",
    "many_to_one join of listing with event on listing.eventid = event.eventid\n",
    "many_to_one join of listing with ddate on listing.dateid = ddate.dateid\n",
    "many_to_one join of listing with users_seller on listing.sellerid = users_seller.userid\n",
    "\n",
    "\"\"\"\n",
    "sql(create_listing_star_schema)"
   ]
  },
  {
   "cell_type": "markdown",
   "metadata": {},
   "source": [
    "### Drop SNAP for sales if it is already there"
   ]
  },
  {
   "cell_type": "code",
   "execution_count": null,
   "metadata": {
    "inputHidden": false,
    "outputHidden": false
   },
   "outputs": [],
   "source": [
    "salessnap=\"\"\"\n",
    "drop olap index salessnap on sales\n",
    "\"\"\"\n",
    "sql(salessnap)"
   ]
  },
  {
   "cell_type": "markdown",
   "metadata": {},
   "source": [
    "### Define the SNAP index for sales"
   ]
  },
  {
   "cell_type": "code",
   "execution_count": null,
   "metadata": {
    "inputHidden": false,
    "outputHidden": false
   },
   "outputs": [],
   "source": [
    "salessnap=\"\"\"\n",
    "\n",
    "create olap index salessnap on sales\n",
    "timestamp dimension starttime \n",
    "timestamp dimension saletime\n",
    "timestamp dimension caldate\n",
    "metric qtysold aggregator longSum is nullable nullvalue \"0\"\n",
    "metric pricepaid aggregator doubleSum is nullable nullvalue \"0.0\"\n",
    "metric commission aggregator doubleSum is nullable nullvalue \"0.0\"\n",
    "dimension holiday is not nullable \n",
    "dimensions \"users_buyer.username,users_buyer.city, users_buyer.state, users_buyer.likesports, users_buyer.liketheatre,users_buyer.likeconcerts, users_buyer.likejazz , \\\n",
    "users_buyer.likeclassical, users_buyer.likeopera, users_buyer.likerock, users_buyer.likevegas, users_buyer.likebroadway, users_buyer.likemusicals, \\\n",
    "venuename, venuecity, venuestate, catgroup, catname, catdesc \\\n",
    ", day, week, month, qtr, year, eventname , \\\n",
    "sales.eventid, sales.buyerid, sales.listid, sales.salesid\" \n",
    "\n",
    "OPTIONS (        \n",
    "    path \"{prefix}/snapindex/salessnap\",\n",
    "    avgSizePerPartition  \"40mb\",\n",
    "    preferredSegmentSize \"20mb\",\n",
    "    rowFlushBoundary \"100000\",\n",
    "    defaultNullValue \"0\"\n",
    ")\n",
    "\"\"\"\n",
    "\n",
    "sql(salessnap)"
   ]
  },
  {
   "cell_type": "markdown",
   "metadata": {},
   "source": [
    "### Load data into sales SNAP index"
   ]
  },
  {
   "cell_type": "code",
   "execution_count": null,
   "metadata": {
    "inputHidden": false,
    "outputHidden": false
   },
   "outputs": [],
   "source": [
    "insert=\"\"\" insert olap index salessnap of sales \"\"\"\n",
    "\n",
    "sql(insert)"
   ]
  },
  {
   "cell_type": "code",
   "execution_count": null,
   "metadata": {},
   "outputs": [],
   "source": [
    "sql(\"\"\" REFRESH TABLE sales\"\"\")"
   ]
  },
  {
   "cell_type": "code",
   "execution_count": null,
   "metadata": {},
   "outputs": [],
   "source": [
    "sql(\"\"\" select count(*) from sales\"\"\")"
   ]
  },
  {
   "cell_type": "markdown",
   "metadata": {},
   "source": [
    "### Drop SNAP index on listing if it is already there"
   ]
  },
  {
   "cell_type": "code",
   "execution_count": null,
   "metadata": {
    "inputHidden": false,
    "outputHidden": false
   },
   "outputs": [],
   "source": [
    "salessnap=\"\"\"\n",
    "drop olap index listingsnap on listing\n",
    "\"\"\"\n",
    "sql(salessnap)"
   ]
  },
  {
   "cell_type": "markdown",
   "metadata": {},
   "source": [
    "### Define the SNAP Index : Second Fact table is Listings."
   ]
  },
  {
   "cell_type": "code",
   "execution_count": null,
   "metadata": {
    "inputHidden": false,
    "outputHidden": false
   },
   "outputs": [],
   "source": [
    "listingsnap=\"\"\"\n",
    "\n",
    "create olap index listingsnap on listing\n",
    "timestamp dimension caldate\n",
    "metric numtickets aggregator longSum is nullable nullvalue \"0\"\n",
    "metric priceperticket aggregator doubleSum is nullable nullvalue \"0.0\"\n",
    "metric totalprice aggregator doubleSum is nullable nullvalue \"0.0\"\n",
    "dimension holiday is not nullable \n",
    "dimensions \"users_seller.username,users_seller.city, users_seller.state, \\\n",
    ", day, week, month, qtr, year, eventname , \\\n",
    "listing.eventid, listing.sellerid, listing.listid\" \n",
    "\n",
    "OPTIONS (        \n",
    "    path \"{prefix}/snapindex/listingsnap\",\n",
    "    avgSizePerPartition  \"40mb\",\n",
    "    preferredSegmentSize \"20mb\",\n",
    "    rowFlushBoundary \"100000\",\n",
    "    defaultNullValue \"0\"\n",
    ")\n",
    "\"\"\"\n",
    "\n",
    "sql(listingsnap)"
   ]
  },
  {
   "cell_type": "markdown",
   "metadata": {},
   "source": [
    "### Load data into listing SNAP index"
   ]
  },
  {
   "cell_type": "code",
   "execution_count": null,
   "metadata": {
    "inputHidden": false,
    "outputHidden": false
   },
   "outputs": [],
   "source": [
    "insert=\"\"\" insert olap index listingsnap of listing \"\"\"\n",
    "\n",
    "sql(insert)"
   ]
  },
  {
   "cell_type": "markdown",
   "metadata": {},
   "source": [
    "### We are done with creating indexes and loaded the data in to the indexes, let us do a simple query "
   ]
  },
  {
   "cell_type": "code",
   "execution_count": null,
   "metadata": {},
   "outputs": [],
   "source": [
    "select_listing = \"\"\" \n",
    "    SELECT count(*) \n",
    "    FROM listing WHERE listid between 1 AND 10000 \n",
    "    OR \n",
    "    listid between 5000 AND 25000\n",
    "\"\"\"\n",
    "sql(select_listing)"
   ]
  },
  {
   "cell_type": "markdown",
   "metadata": {},
   "source": [
    "### Query: Find the total tickets sold on Jan 5th 2018\n",
    "\n",
    "##### Note after loading data into SNAP you can query the original tables sales, ddate with the join keys. The query will get rewritten to use the SNAP Index"
   ]
  },
  {
   "cell_type": "code",
   "execution_count": null,
   "metadata": {
    "inputHidden": false,
    "outputHidden": false
   },
   "outputs": [],
   "source": [
    "tickets_sold_onJan5th = \"\"\"\n",
    "SELECT sum(qtysold) \n",
    "FROM   sales as sales, ddate\n",
    "WHERE  sales.dateid = ddate.dateid \n",
    "AND    ddate.caldate = '2008-01-05'\n",
    "\"\"\"\n",
    "sql(tickets_sold_onJan5th)"
   ]
  },
  {
   "cell_type": "markdown",
   "metadata": {},
   "source": [
    "### Query: Find the top ten customers with maximum number of tickers"
   ]
  },
  {
   "cell_type": "code",
   "execution_count": null,
   "metadata": {
    "inputHidden": false,
    "outputHidden": false
   },
   "outputs": [],
   "source": [
    "top_10_customers = \"\"\"\n",
    "SELECT firstname, lastname, total_quantity \n",
    "FROM   (SELECT buyerid, sum(qtysold) total_quantity\n",
    "        FROM  sales\n",
    "        GROUP BY buyerid\n",
    "        ORDER BY total_quantity desc limit 10) Q, users\n",
    "WHERE Q.buyerid = userid\n",
    "ORDER BY Q.total_quantity desc\n",
    "\"\"\"\n",
    "sql(top_10_customers)"
   ]
  },
  {
   "cell_type": "markdown",
   "metadata": {},
   "source": [
    "### Find the top 10 events with maximum revenue"
   ]
  },
  {
   "cell_type": "code",
   "execution_count": null,
   "metadata": {
    "inputHidden": false,
    "outputHidden": false
   },
   "outputs": [],
   "source": [
    "top_10_events=\"\"\"\n",
    "select sales.eventid, sum(sales.pricepaid)\n",
    "from sales, event\n",
    "where sales.eventid = event.eventid\n",
    "and sales.pricepaid > 30\n",
    "group by sales.eventid\n",
    "order by 2 desc\n",
    "limit 10\n",
    "\"\"\"\n",
    "\n",
    "sql(top_10_events)"
   ]
  },
  {
   "cell_type": "markdown",
   "metadata": {},
   "source": [
    "### Join sales and listing along with other non-indexed external tables"
   ]
  },
  {
   "cell_type": "code",
   "execution_count": null,
   "metadata": {
    "inputHidden": false,
    "outputHidden": false
   },
   "outputs": [],
   "source": [
    "query3=\"\"\" \n",
    "SELECT SUM(`sales`.`qtysold`) AS `sum_qty_sold`, \n",
    "COUNT(1) AS `x__alias__0` \n",
    "FROM `EventsDB`.`salessnap` `sales` \n",
    "  JOIN `EventsDB`.`users` `users` ON (`sales`.`buyerid` = `users`.`userid`) \n",
    "  JOIN `EventsDB`.`event` `event` ON (`sales`.`sales_eventid` = `event`.`eventid`) \n",
    "  JOIN `EventsDB`.`listing` `listing` ON (`sales`.`listid` = `listing`.`listid`) \n",
    "  JOIN `EventsDB`.`ddate` `ddate` ON (`sales`.`caldate` = `ddate`.`caldate`) \n",
    "  JOIN `EventsDB`.`category` `category` ON (`event`.`catid` = `category`.`catid`) \n",
    "  JOIN `EventsDB`.`venue` `venue` ON (`event`.`venueid` = `venue`.`venueid`) \n",
    "  HAVING (COUNT(1) > 0)\n",
    "\"\"\"\n",
    "sql(query3)"
   ]
  },
  {
   "cell_type": "markdown",
   "metadata": {},
   "source": [
    "## Let us stop here to exercise query notebooks "
   ]
  },
  {
   "cell_type": "markdown",
   "metadata": {},
   "source": [
    "### Describe SNAP index sales"
   ]
  },
  {
   "cell_type": "code",
   "execution_count": null,
   "metadata": {},
   "outputs": [],
   "source": [
    "sql(\"\"\" desc ddate\"\"\")"
   ]
  },
  {
   "cell_type": "code",
   "execution_count": null,
   "metadata": {},
   "outputs": [],
   "source": []
  }
 ],
 "metadata": {
  "kernel_info": {
   "name": "python2"
  },
  "kernelspec": {
   "display_name": "Python 3",
   "language": "python",
   "name": "python3"
  },
  "language_info": {
   "codemirror_mode": {
    "name": "ipython",
    "version": 3
   },
   "file_extension": ".py",
   "mimetype": "text/x-python",
   "name": "python",
   "nbconvert_exporter": "python",
   "pygments_lexer": "ipython3",
   "version": "3.6.5"
  },
  "nteract": {
   "version": "0.4.3"
  }
 },
 "nbformat": 4,
 "nbformat_minor": 4
}
