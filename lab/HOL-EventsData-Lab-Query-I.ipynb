{
 "cells": [
  {
   "cell_type": "markdown",
   "metadata": {},
   "source": [
    "# Lab notebook to query data using SNAP indexes"
   ]
  },
  {
   "cell_type": "markdown",
   "metadata": {},
   "source": [
    "## HOL-EventsData-Lab-Query-I - to perform queries on the data qubes created in setup notebook\n",
    "\n",
    "The pupose of this lab is to demonstrate the core capabilities of SparklineData such as\n",
    "1. Slicing and dicing the data based on various dimnentions and metrics\n",
    "2. Joining data outside SNAP qube\n",
    "3. BI and Semantic capabilties like windowing\n",
    "\n",
    "In this exercise we will be creating four views on the Qube Salessnap with filters for each segment of users. \n",
    "\n",
    "### 1. Segmentation\n",
    "1. Create four different segments (jazz only, jazz and sports etc)\n",
    "    * JazzOnly - view has sales of customers who like Jazz only. \n",
    "    * JazzAndSports - view has all sales for users segments who like Jazz and Sports\n",
    "    * JazzNotSports - view has all sales for users segments who like Jazz but not Sports\n",
    "    * SportsOnly - view has sales of customers who like Sports only. \n",
    "2. Aggregate the revenue by month for Jazz only segment and order by month\n",
    "3. Aggregate the revenue by month for Sports only segment and order by month\n",
    "4. Combine both the results and plot quantity sold and revenue by month for JazzOnly and SportsOnly segments\n",
    "5. Draw a histogram comparing the above\n",
    "\n",
    "### 2. Repeat Customer Analysis\n",
    "1. Creates a view with the first ticket sales time and the most recent user activity date for each customer\n",
    "2. For each Jazzonly user get the amount of tickets purchased and the price paid every week since their first transaction\n",
    "3. For each SportsOnly user get the amount of tickets purchased and the price paid every week since their first transaction\n",
    "\n",
    "### 3. Cohort analysis\n",
    "1. Draw a chart showing the behavior of Cohorts who bought tickets together and their subsequent behavior every week\n",
    "2. Returning sports customers - customers who are coming repeatedly"
   ]
  },
  {
   "cell_type": "markdown",
   "metadata": {},
   "source": [
    "### First let us setup the notebook environment (Python packages) and connect to Thrift server "
   ]
  },
  {
   "cell_type": "code",
   "execution_count": null,
   "metadata": {},
   "outputs": [],
   "source": [
    "%load_ext autotime"
   ]
  },
  {
   "cell_type": "code",
   "execution_count": null,
   "metadata": {
    "inputHidden": false,
    "outputHidden": false
   },
   "outputs": [],
   "source": [
    "from pyhive import hive\n",
    "from pprint import pprint\n",
    "import pandas as pd\n",
    "import os\n",
    "from altair import *\n",
    "\n",
    "from altair import Row, Column, Chart, Text\n",
    "import altair as alt\n",
    "\n",
    "# to use with Jupyter notebook (not JupyterLab) run the following\n",
    "alt.renderers.enable('notebook')\n",
    "\n",
    "def sql(query, explain=False) :\n",
    "    # silly hack to handle filesystem prefix for us when creating local tables\n",
    "    if \"{prefix}\" in query:\n",
    "        query = query.replace('{prefix}',cwd)\n",
    "    df=pd.read_sql(query,thrift_conn)\n",
    "    return df\n",
    "\n",
    "def explain(query):\n",
    "    df = sql(\"explain \" + query)\n",
    "    plan = df['plan'][0]\n",
    "    pprint(plan)\n",
    "    \n",
    "# Choose the directory that contains the Dataset to ingest into SNAP\n",
    "cwd=\"oci://sparkline-hol-data@paasdevbdc\"\n",
    "\n",
    "# Connection to Thrift server\n",
    "thrift_conn = hive.Connection(host=\"129.146.118.175\",port=10000)"
   ]
  },
  {
   "cell_type": "markdown",
   "metadata": {},
   "source": [
    "### Use EventsDB schema/database and list out all the existing tables"
   ]
  },
  {
   "cell_type": "code",
   "execution_count": null,
   "metadata": {},
   "outputs": [],
   "source": [
    "pd.read_sql('use EventsDB',thrift_conn)\n",
    "pd.read_sql('show tables',thrift_conn)"
   ]
  },
  {
   "cell_type": "markdown",
   "metadata": {},
   "source": [
    "## Analysis of user segments \n",
    "\n",
    "### Create four different segments based on users interest\n",
    "\n",
    "In this exercise we will be creating four views on the Qube Salessnap with filters for each segment of users. \n",
    "Example \n",
    "* JazzOnly - view has sales of customers who like Jazz only. \n",
    "* JazzAndSports - view has all sales for users segments who like Jazz and Sports\n",
    "* JazzNotSports - view has all sales for users segments who like Jazz but not Sports\n",
    "* SportsOnly - view has sales of customers who like Sports only. "
   ]
  },
  {
   "cell_type": "code",
   "execution_count": null,
   "metadata": {
    "inputHidden": false,
    "outputHidden": false
   },
   "outputs": [],
   "source": [
    "sql( \"\"\"\n",
    "create or replace view JazzOnly\n",
    "as\n",
    "select 'JazzOnly', *\n",
    "from salessnap\n",
    "where users_buyer_likejazz='TRUE'\n",
    "\"\"\")"
   ]
  },
  {
   "cell_type": "code",
   "execution_count": null,
   "metadata": {
    "inputHidden": false,
    "outputHidden": false
   },
   "outputs": [],
   "source": [
    "sql( \"\"\"\n",
    "create or replace view JazzANDSports\n",
    "as\n",
    "select 'JazzAndSports', *\n",
    "from salessnap\n",
    "where users_buyer_likesports='TRUE' and users_buyer_likejazz='TRUE'\n",
    "\"\"\")"
   ]
  },
  {
   "cell_type": "code",
   "execution_count": null,
   "metadata": {
    "inputHidden": false,
    "outputHidden": false
   },
   "outputs": [],
   "source": [
    "sql( \"\"\"\n",
    "create or replace view JazzNOTSports\n",
    "as\n",
    "select 'JazzNotSports', *\n",
    "from salessnap\n",
    "where users_buyer_likesports='FALSE' and users_buyer_likejazz='TRUE'\n",
    "\"\"\")"
   ]
  },
  {
   "cell_type": "code",
   "execution_count": null,
   "metadata": {
    "inputHidden": false,
    "outputHidden": false
   },
   "outputs": [],
   "source": [
    "sql( \"\"\"\n",
    "create or replace view SportsOnly\n",
    "as\n",
    "select 'SportsOnly', *\n",
    "from salessnap\n",
    "where users_buyer_likesports='TRUE' \n",
    "\"\"\")"
   ]
  },
  {
   "cell_type": "markdown",
   "metadata": {},
   "source": [
    "#### 1.2 Query the JazzOnly segment for type, month of sales, quantity of tickets sold and the total revenue group by month order by revenue"
   ]
  },
  {
   "cell_type": "code",
   "execution_count": null,
   "metadata": {
    "inputHidden": false,
    "outputHidden": false
   },
   "outputs": [],
   "source": [
    "df1=sql( \"\"\"\n",
    "select 'Jazz' as type, month sdate, sum(qtysold) quantity, sum(pricepaid) revenue \n",
    "from JazzOnly group by month order by revenue desc\n",
    "\"\"\")"
   ]
  },
  {
   "cell_type": "code",
   "execution_count": null,
   "metadata": {},
   "outputs": [],
   "source": [
    "df1"
   ]
  },
  {
   "cell_type": "code",
   "execution_count": null,
   "metadata": {
    "inputHidden": false,
    "outputHidden": false
   },
   "outputs": [],
   "source": [
    "# Visualize the data in the Dataframe between quantity and cost/revenue\n",
    "alt.Chart(df1).mark_circle(\n",
    "    color='red',\n",
    "    opacity=0.3\n",
    ").encode(\n",
    "    x='quantity:Q',\n",
    "    y='revenue:Q'\n",
    ")"
   ]
  },
  {
   "cell_type": "markdown",
   "metadata": {},
   "source": [
    "#### 1.3 Query the SportsOnly segment for type, month of sales, quantity of tickets sold and the total revenue group by month order by revenue"
   ]
  },
  {
   "cell_type": "code",
   "execution_count": null,
   "metadata": {
    "inputHidden": false,
    "outputHidden": false
   },
   "outputs": [],
   "source": [
    "df2=sql( \"\"\"\n",
    "select 'Sports' as type , month sdate, sum(qtysold) quantity, sum(pricepaid) revenue \n",
    "from SportsOnly group by month order by revenue desc\n",
    "\"\"\")"
   ]
  },
  {
   "cell_type": "code",
   "execution_count": null,
   "metadata": {},
   "outputs": [],
   "source": [
    "df2"
   ]
  },
  {
   "cell_type": "markdown",
   "metadata": {},
   "source": [
    "Append Jazz only and Sports Only views "
   ]
  },
  {
   "cell_type": "code",
   "execution_count": null,
   "metadata": {
    "inputHidden": false,
    "outputHidden": false
   },
   "outputs": [],
   "source": [
    "df3=df1.append(df2)\n",
    "g=df3.groupby('type')\n",
    "\n",
    "g.describe()\n",
    "\n",
    "for key, item in g:\n",
    "    print (g.get_group(key), \"\\n\\n\")"
   ]
  },
  {
   "cell_type": "markdown",
   "metadata": {},
   "source": [
    "####  1.4 Plot quantity sold and revenue by month for JazzOnly and SportsOnly segments"
   ]
  },
  {
   "cell_type": "code",
   "execution_count": null,
   "metadata": {
    "inputHidden": false,
    "outputHidden": false
   },
   "outputs": [],
   "source": [
    "alt.Chart(df3).mark_line(point=True).encode(\n",
    "    x='sdate',\n",
    "    y='quantity'\n",
    ")"
   ]
  },
  {
   "cell_type": "code",
   "execution_count": null,
   "metadata": {
    "inputHidden": false,
    "outputHidden": false
   },
   "outputs": [],
   "source": [
    "## Plot price paid for the same segments\n",
    "alt.Chart(df3).mark_line(point=True).encode(\n",
    "    x='sdate',\n",
    "    y='revenue'\n",
    ")"
   ]
  },
  {
   "cell_type": "markdown",
   "metadata": {},
   "source": [
    "####  1.5 Draw a histogram comparing both of them"
   ]
  },
  {
   "cell_type": "code",
   "execution_count": null,
   "metadata": {
    "inputHidden": false,
    "outputHidden": false
   },
   "outputs": [],
   "source": [
    "##Histogram on QUantity bins \n",
    "bar = alt.Chart(df3).mark_bar().encode(\n",
    "    alt.X('quantity:Q', bin=True, axis=None),\n",
    "    alt.Y('count()')\n",
    ")\n",
    "\n",
    "rule = alt.Chart(df3).mark_rule(color='red').encode(\n",
    "    x='mean(quantity):Q',\n",
    "    size=alt.value(5)\n",
    ")\n",
    "\n",
    "bar + rule"
   ]
  },
  {
   "cell_type": "markdown",
   "metadata": {},
   "source": [
    "### Analyze Repeat customers"
   ]
  },
  {
   "cell_type": "code",
   "execution_count": null,
   "metadata": {
    "inputHidden": false,
    "outputHidden": false
   },
   "outputs": [],
   "source": [
    "# Creates a view with the first ticket sales time and the most recent user activity date for each customer\n",
    "sql(\"\"\"\n",
    "create or replace view custmin as \n",
    "select users_buyer_username, min(saletime)firstsalestime, max(saletime) lastsaletime\n",
    "from salessnap\n",
    "where year(saletime)='2008'\n",
    "group by users_buyer_username\n",
    "\"\"\")"
   ]
  },
  {
   "cell_type": "code",
   "execution_count": null,
   "metadata": {
    "inputHidden": false,
    "outputHidden": false
   },
   "outputs": [],
   "source": [
    "# For each Jazzonly user get the amount of tickets purchased and the price paid every week since their first transaction\n",
    "df=sql(\"\"\"\n",
    "SELECT Weekofyear(firstsalestime)                            AS start, \n",
    "       ( Weekofyear(saletime) - Weekofyear(firstsalestime) ) AS weeksince, \n",
    "       Sum(qtysold)                                          quantity, \n",
    "       Sum(pricepaid)                                        price, \n",
    "       Count(DISTINCT jonly.users_buyer_username)   AS dist_count\n",
    "FROM   jazzonly jonly,\n",
    "       custmin  cust\n",
    "WHERE  Weekofyear(saletime) - Weekofyear(firstsalestime) < '15' \n",
    "       AND jonly.users_buyer_username = cust.users_buyer_username \n",
    "       AND Weekofyear(jonly.saletime) > Weekofyear(cust.firstsalestime) \n",
    "       AND Year(saletime) = '2008' \n",
    "GROUP  BY Weekofyear(firstsalestime), \n",
    "          ( Weekofyear(saletime) - Weekofyear(firstsalestime) ) \n",
    "ORDER  BY start, \n",
    "          weeksince \n",
    "\"\"\")"
   ]
  },
  {
   "cell_type": "code",
   "execution_count": null,
   "metadata": {},
   "outputs": [],
   "source": [
    "df"
   ]
  },
  {
   "cell_type": "code",
   "execution_count": null,
   "metadata": {
    "inputHidden": false,
    "outputHidden": false
   },
   "outputs": [],
   "source": [
    "#For each SportsOnly user get the amount of tickets purchased and the price paid every week since their first transaction\n",
    "\n",
    "df2=sql(\"\"\"\n",
    "SELECT Weekofyear(firstsalestime)                            AS start, \n",
    "       ( Weekofyear(saletime) - Weekofyear(firstsalestime) ) AS weeksince, \n",
    "       Sum(qtysold)                                          quantity, \n",
    "       Sum(pricepaid)                                        price, \n",
    "       Count(DISTINCT jonly.users_buyer_username)                            AS dist_count \n",
    "FROM   jazznotsports jonly, \n",
    "       custmin cust\n",
    "WHERE  Weekofyear(saletime) - Weekofyear(firstsalestime) < '15' \n",
    "       AND jonly.users_buyer_username = cust.users_buyer_username \n",
    "       AND Weekofyear(jonly.saletime) > Weekofyear(cust.firstsalestime) \n",
    "       AND Year(saletime) = '2008' \n",
    "GROUP  BY Weekofyear(firstsalestime), \n",
    "          ( Weekofyear(saletime) - Weekofyear(firstsalestime) ) \n",
    "ORDER  BY start, \n",
    "          weeksince \n",
    "\"\"\")"
   ]
  },
  {
   "cell_type": "code",
   "execution_count": null,
   "metadata": {},
   "outputs": [],
   "source": [
    "df2"
   ]
  },
  {
   "cell_type": "code",
   "execution_count": null,
   "metadata": {
    "inputHidden": false,
    "outputHidden": false
   },
   "outputs": [],
   "source": [
    "bars = alt.Chart(df2).mark_bar().encode(\n",
    "    x='quantity',\n",
    "    y='weeksince:O'\n",
    ")\n",
    "\n",
    "bars"
   ]
  },
  {
   "cell_type": "markdown",
   "metadata": {},
   "source": [
    "### A Chart showing the behavior of Cohorts who bought tickets and their subsequent behavior every week"
   ]
  },
  {
   "cell_type": "code",
   "execution_count": null,
   "metadata": {
    "inputHidden": false,
    "outputHidden": false
   },
   "outputs": [],
   "source": [
    "alt.Chart(df2).mark_text().encode(\n",
    "    color=Color('quantity:Q',\n",
    "        legend=Legend(\n",
    "           title='Cohort')),column='weeksince:O',row='start:O',text='dist_count:Q')\n",
    "\n"
   ]
  },
  {
   "cell_type": "code",
   "execution_count": null,
   "metadata": {
    "inputHidden": false,
    "outputHidden": false,
    "scrolled": true
   },
   "outputs": [],
   "source": [
    "alt.Chart(df2,\n",
    "    description='Returning Sports users.',\n",
    ").mark_line().encode(\n",
    "    color='weeksince:O',\n",
    "    x='start:O',\n",
    "    y='dist_count:Q'\n",
    ")"
   ]
  },
  {
   "cell_type": "code",
   "execution_count": null,
   "metadata": {
    "inputHidden": false,
    "outputHidden": false
   },
   "outputs": [],
   "source": [
    "df4=sql(\"\"\"\n",
    "select month(saletime)  as month, avg(weekofyear(lastsaletime) - weekofyear(firstsalestime) )  as duration, \n",
    "sum(qtysold) a, sum(pricepaid) p , count(distinct a.users_buyer_username) as c\n",
    "\n",
    "from JazzNotSports a, custmin b \n",
    "where  \n",
    "a.users_buyer_username=b.users_buyer_username \n",
    "group by month(saletime)\n",
    "order by month \n",
    "\"\"\")"
   ]
  },
  {
   "cell_type": "code",
   "execution_count": null,
   "metadata": {
    "inputHidden": false,
    "outputHidden": false
   },
   "outputs": [],
   "source": [
    "df4"
   ]
  },
  {
   "cell_type": "markdown",
   "metadata": {},
   "source": [
    "#### Done"
   ]
  },
  {
   "cell_type": "code",
   "execution_count": null,
   "metadata": {},
   "outputs": [],
   "source": []
  }
 ],
 "metadata": {
  "kernel_info": {
   "name": "python2"
  },
  "kernelspec": {
   "display_name": "Python 3",
   "language": "python",
   "name": "python3"
  },
  "language_info": {
   "codemirror_mode": {
    "name": "ipython",
    "version": 3
   },
   "file_extension": ".py",
   "mimetype": "text/x-python",
   "name": "python",
   "nbconvert_exporter": "python",
   "pygments_lexer": "ipython3",
   "version": "3.6.5"
  },
  "nteract": {
   "version": "0.4.3"
  }
 },
 "nbformat": 4,
 "nbformat_minor": 4
}
